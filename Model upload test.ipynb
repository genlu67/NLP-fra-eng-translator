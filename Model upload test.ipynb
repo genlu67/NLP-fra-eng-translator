{
 "cells": [
  {
   "cell_type": "code",
   "execution_count": 1,
   "id": "3598a4b6",
   "metadata": {},
   "outputs": [],
   "source": [
    "import logging\n",
    "import time\n",
    "\n",
    "import numpy as np\n",
    "import matplotlib.pyplot as plt\n",
    "\n",
    "import tensorflow_datasets as tfds\n",
    "import tensorflow as tf\n",
    "\n",
    "import tensorflow_text "
   ]
  },
  {
   "cell_type": "code",
   "execution_count": 2,
   "id": "0c1deeab",
   "metadata": {},
   "outputs": [],
   "source": [
    "text = \"Je veux prendre une voiture à l'aéroport\""
   ]
  },
  {
   "cell_type": "code",
   "execution_count": 3,
   "id": "24c82bd6",
   "metadata": {},
   "outputs": [],
   "source": [
    "input_text = tf.constant([text])"
   ]
  },
  {
   "cell_type": "code",
   "execution_count": 4,
   "id": "c80d6d53",
   "metadata": {},
   "outputs": [],
   "source": [
    "reloaded = tf.saved_model.load('attention_translator')"
   ]
  },
  {
   "cell_type": "code",
   "execution_count": 5,
   "id": "4dee91de",
   "metadata": {},
   "outputs": [
    {
     "data": {
      "text/plain": [
       "array([b'i want to take a car at the airport . [END]'], dtype=object)"
      ]
     },
     "execution_count": 5,
     "metadata": {},
     "output_type": "execute_result"
    }
   ],
   "source": [
    "reloaded(input_text).numpy()"
   ]
  },
  {
   "cell_type": "code",
   "execution_count": 6,
   "id": "3ac809df",
   "metadata": {},
   "outputs": [
    {
     "data": {
      "text/plain": [
       "(<tf.Tensor: shape=(1, 3), dtype=string, numpy=\n",
       " array([[b'i want to take a car at the airport . [END]',\n",
       "         b'i want to take a car to the airport . [END]',\n",
       "         b'i want to have a car at the airport . [END]']], dtype=object)>,\n",
       " <tf.Tensor: shape=(1, 3), dtype=float32, numpy=array([[ -6.991229, -25.026339, -36.32093 ]], dtype=float32)>)"
      ]
     },
     "execution_count": 6,
     "metadata": {},
     "output_type": "execute_result"
    }
   ],
   "source": [
    "reloaded.beam_translate(input_text)"
   ]
  },
  {
   "cell_type": "code",
   "execution_count": 7,
   "id": "ba1fe603",
   "metadata": {},
   "outputs": [],
   "source": [
    "reloaded = tf.saved_model.load(\"fra-translator\")"
   ]
  },
  {
   "cell_type": "code",
   "execution_count": 8,
   "id": "95d4890f",
   "metadata": {},
   "outputs": [
    {
     "data": {
      "text/plain": [
       "<tf.Tensor: shape=(), dtype=string, numpy=b'i want to get a car at the airport .'>"
      ]
     },
     "execution_count": 8,
     "metadata": {},
     "output_type": "execute_result"
    }
   ],
   "source": [
    "reloaded(text)"
   ]
  }
 ],
 "metadata": {
  "kernelspec": {
   "display_name": "Python 3 (ipykernel)",
   "language": "python",
   "name": "python3"
  },
  "language_info": {
   "codemirror_mode": {
    "name": "ipython",
    "version": 3
   },
   "file_extension": ".py",
   "mimetype": "text/x-python",
   "name": "python",
   "nbconvert_exporter": "python",
   "pygments_lexer": "ipython3",
   "version": "3.9.12"
  }
 },
 "nbformat": 4,
 "nbformat_minor": 5
}
